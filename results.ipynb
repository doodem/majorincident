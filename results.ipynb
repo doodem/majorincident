{
 "cells": [
  {
   "cell_type": "code",
   "execution_count": 4,
   "metadata": {},
   "outputs": [],
   "source": [
    "import matplotlib.pyplot as plt\n",
    "import matplotlib as mpl\n",
    "import pandas as pd\n",
    "from majorincident import PlotResponse\n",
    "\n",
    "mpl.rcParams['font.size'] = 20\n",
    "plt.rcParams['font.family'] = 'serif'\n",
    "plt.rcParams['font.serif'] = ['Times New Roman'] + plt.rcParams['font.serif']"
   ]
  },
  {
   "cell_type": "markdown",
   "metadata": {},
   "source": [
    "# Convergences"
   ]
  },
  {
   "cell_type": "code",
   "execution_count": null,
   "metadata": {},
   "outputs": [],
   "source": [
    "!python ensemble.py -m 1 -r 10000 --number_of_responders 30 --pheromone_deposit 0.1 0.3 0.6 0.9 -s 748436496 -o \"data/convergence.csv\""
   ]
  },
  {
   "cell_type": "code",
   "execution_count": null,
   "metadata": {},
   "outputs": [],
   "source": [
    "convergences = pd.read_csv('data/convergence.csv')\n",
    "convergences['Label'] = convergences['Pheromone'].apply(lambda p: r'$p$=' + str(p))\n",
    "fig, axes = plt.subplots(2, 1, figsize=(7, 7)) \n",
    "PlotResponse(ax=axes[0], data=convergences, x='TimeStep', y='Avg_Covered', group='ModelNumber')\n",
    "axes[0].xaxis.set_ticks([0, 50, 100, 150, 200])\n",
    "axes[0].xaxis.set_ticklabels([])\n",
    "axes[0].yaxis.set_ticks([0.0, 0.5, 1])\n",
    "axes[0].set_xlabel('')\n",
    "axes[0].set_xlim(0, 200) # as noted in the paper, later time-steps are less reliable given varying convergenceation length\n",
    "PlotResponse(ax=axes[1], data=convergences, x='TimeStep', y='Avg_Reached', group='ModelNumber')\n",
    "axes[1].annotate('(a)', xy=(0.5, -0.40), xycoords='axes fraction', fontsize=22, ha='center')\n",
    "axes[1].set_xlim(0, 200)\n",
    "axes[1].xaxis.set_ticks([0, 50, 100, 150, 200])\n",
    "plt.subplots_adjust(hspace=0.05)\n",
    "plt.subplots_adjust(bottom=0.15)\n",
    "plt.savefig(\"figs/convergence.jpg\", bbox_inches='tight')\n",
    "plt.show()"
   ]
  },
  {
   "cell_type": "markdown",
   "metadata": {},
   "source": [
    "# Awareness"
   ]
  },
  {
   "cell_type": "code",
   "execution_count": null,
   "metadata": {},
   "outputs": [],
   "source": [
    "!python ensemble.py -m 1 -r 10000 --number_of_responders 30 --pheromone_deposit 0.1 0.3 0.6 0.9 --staggered_dispatch --staggered_dispatch_responders 10 --staggered_dispatch_delta 30 -s 75634565 -o \"data/awareness.csv\""
   ]
  },
  {
   "cell_type": "code",
   "execution_count": null,
   "metadata": {},
   "outputs": [],
   "source": [
    "awarenesses = pd.read_csv('data/awareness.csv')\n",
    "awarenesses['Label'] = awarenesses['Pheromone'].apply(lambda p: r'$p$=' + str(p))\n",
    "fig, axes = plt.subplots(2, 1, figsize=(7, 7))\n",
    "PlotResponse(ax=axes[0], data=awarenesses, x='TimeStep', y='Avg_Covered', group='ModelNumber')\n",
    "axes[0].xaxis.set_ticklabels([])\n",
    "axes[0].yaxis.set_ticks([0.0, 0.5, 1.0])\n",
    "axes[0].xaxis.set_ticks([0, 50, 100, 150, 200, 250])\n",
    "axes[0].set_xlabel('') \n",
    "axes[0].set_xlim(0, 250)\n",
    "PlotResponse(ax=axes[1], data=awarenesses, x='TimeStep', y='Avg_Reached', group='ModelNumber', label='Label')\n",
    "axes[1].annotate('(b)', xy=(0.5, -0.40), xycoords='axes fraction', fontsize=22, ha='center')\n",
    "axes[1].set_xlim(0, 250)\n",
    "axes[1].xaxis.set_ticks([0, 50, 100, 150, 200, 250])\n",
    "plt.subplots_adjust(hspace=0.05)\n",
    "plt.subplots_adjust(bottom=0.15)\n",
    "plt.savefig(\"figs/awareness.jpg\", bbox_inches='tight')\n",
    "plt.show()"
   ]
  },
  {
   "cell_type": "markdown",
   "metadata": {},
   "source": [
    "# Explore Interactions"
   ]
  },
  {
   "cell_type": "code",
   "execution_count": null,
   "metadata": {},
   "outputs": [],
   "source": [
    "!python ensemble.py -m 2 -r 10000 --number_of_responders 30 --pheromone_deposit 0.1:1:0.1 -s 634267453 -o \"data/convergence-total.csv\""
   ]
  },
  {
   "cell_type": "code",
   "execution_count": null,
   "metadata": {},
   "outputs": [],
   "source": [
    "!python ensemble.py -m 2 -r 10000 --number_of_responders 30 --pheromone_deposit 0.1:1:0.1 --staggered_dispatch --staggered_dispatch_responders 10 --staggered_dispatch_delta 30 -s 345687646 -o \"data/awareness-total.csv\""
   ]
  },
  {
   "cell_type": "code",
   "execution_count": null,
   "metadata": {},
   "outputs": [],
   "source": [
    "convergences = pd.read_csv('data/convergence-total.csv')\n",
    "convergences['Interaction'] = 'convergence'\n",
    "awarenesses = pd.read_csv('data/awareness-total.csv')\n",
    "awarenesses['Interaction'] = 'awareness'\n",
    "explore_interactions = pd.concat([convergences, awarenesses])\n",
    "\n",
    "fig1, ax1 = plt.subplots(figsize=(7, 4)) \n",
    "PlotResponse(ax=ax1, data=explore_interactions, x='Pheromone', y='Avg_Covered', sd='SD_Covered', group='Interaction', colour=['#FDBF2D', '#4C67DD'])\n",
    "ax1.yaxis.set_ticks([0.25, 0.50, 0.75, 1.00])\n",
    "ax1.set_ylabel(r'$C$', fontsize=22)\n",
    "ax1.annotate('(a)', xy=(0.5, -0.35), xycoords='axes fraction', fontsize=22, ha='center')\n",
    "plt.savefig(\"figs/interactions-coverage.jpg\", bbox_inches='tight')\n",
    "plt.show()\n",
    "\n",
    "fig2, ax2 = plt.subplots(figsize=(7, 4))  # Separate figure for the second plot\n",
    "PlotResponse(ax=ax2, data=explore_interactions, x='Pheromone', y='Avg_Time', sd='SD_Time', group='Interaction', colour=['#FDBF2D', '#4C67DD'])\n",
    "ax2.yaxis.set_ticks([100, 150, 200, 250])\n",
    "ax2.set_ylabel(r'$t$', fontsize=22)\n",
    "ax2.annotate('(b)', xy=(0.5, -0.35), xycoords='axes fraction', fontsize=22, ha='center')\n",
    "plt.savefig(\"figs/interactions-time.jpg\", bbox_inches='tight')\n",
    "plt.show()"
   ]
  },
  {
   "cell_type": "markdown",
   "metadata": {},
   "source": [
    "# Evolving Incidents"
   ]
  },
  {
   "cell_type": "code",
   "execution_count": null,
   "metadata": {},
   "outputs": [],
   "source": [
    "!python ensemble.py -m 1 -r 10000 --number_of_responders 30 --pheromone_deposit 0.1 0.3 0.6 0.9 --staggered_dispatch --staggered_dispatch_responders 10 --staggered_dispatch_delta 30 --evolving_incident --evolving_incident_growth_by 1 --evolving_incident_growth_delta 50 --evolving_incident_regenerate_delta 50 -s 8734589 -o \"data/evolving-incidents.csv\" "
   ]
  },
  {
   "cell_type": "code",
   "execution_count": null,
   "metadata": {},
   "outputs": [],
   "source": [
    "evolving_incidents = pd.read_csv('data/evolving-incidents.csv')\n",
    "evolving_incidents['Label'] = evolving_incidents['Pheromone'].apply(lambda p: r'$p$=' + str(p))\n",
    "fig, axes = plt.subplots(2, 1, figsize=(7, 7))\n",
    "PlotResponse(ax=axes[0], data=evolving_incidents, x='TimeStep', y='Avg_Hits', group='ModelNumber', label='Label')\n",
    "axes[0].set_xlim(0, 300)\n",
    "axes[0].xaxis.set_ticklabels([])\n",
    "axes[0].set_xlabel('') \n",
    "axes[0].legend(loc=3, prop={'size': 16})\n",
    "PlotResponse(ax=axes[1], data=evolving_incidents, x='TimeStep', y='Avg_Equality', group='ModelNumber')\n",
    "axes[1].set_xlim(0, 300)\n",
    "axes[1].annotate('(a)', xy=(0.5, -0.40), xycoords='axes fraction', fontsize=22, ha='center')\n",
    "plt.subplots_adjust(hspace=0.05)\n",
    "plt.savefig(\"figs/evolving-incidents.jpg\", bbox_inches='tight')\n",
    "plt.show()"
   ]
  },
  {
   "cell_type": "markdown",
   "metadata": {},
   "source": [
    "# Emerging Incidents"
   ]
  },
  {
   "cell_type": "code",
   "execution_count": null,
   "metadata": {},
   "outputs": [],
   "source": [
    "%run k&n.py"
   ]
  },
  {
   "cell_type": "code",
   "execution_count": null,
   "metadata": {},
   "outputs": [],
   "source": [
    "emerging_incidents = pd.read_csv('data/emerging-incidents.csv')\n",
    "emerging_incidents['Label'] = emerging_incidents.apply(\n",
    "    lambda row: r'$k$=' + f'{row[\"k\"]}, ' + r'$n$=' + f'{row[\"n\"]}', axis=1\n",
    ")\n",
    "fig, axes = plt.subplots(2, 1, figsize=(7, 7))\n",
    "PlotResponse(ax=axes[0], data=emerging_incidents, x='TimeStep', y='Avg_Covered', group='ModelNumber')\n",
    "axes[0].xaxis.set_ticklabels([])\n",
    "axes[0].set_xlabel('') \n",
    "axes[0].set_xlim(0, 300)\n",
    "PlotResponse(ax=axes[1], data=emerging_incidents, x='TimeStep', y='Avg_Reached', group='ModelNumber', label='Label')\n",
    "axes[1].legend(loc=4, prop={'size': 16})\n",
    "axes[1].set_xlim(0, 300)\n",
    "axes[1].annotate('(b)', xy=(0.5, -0.40), xycoords='axes fraction', fontsize=22, ha='center')\n",
    "plt.subplots_adjust(hspace=0.05)\n",
    "plt.savefig(\"figs/emerging-incidents.jpg\", bbox_inches='tight')\n",
    "plt.show()"
   ]
  },
  {
   "cell_type": "markdown",
   "metadata": {},
   "source": [
    "# Spreading Incidents"
   ]
  },
  {
   "cell_type": "code",
   "execution_count": null,
   "metadata": {},
   "outputs": [],
   "source": [
    "!python ensemble.py -m 1 -r 10000 --number_of_responders 30 --pheromone_deposit 0.3 0.9 --spreading_incident --spreading_incident_ego_graph 1 --spreading_incident_threshold 0.5 --spreading_incident_probability 0.05 --spreading_incident_time_multiplier 0.001 -s 56783456 -o \"data/spreading-incidents.csv\""
   ]
  },
  {
   "cell_type": "code",
   "execution_count": null,
   "metadata": {},
   "outputs": [],
   "source": [
    "spreading_incidents = pd.read_csv('data/spreading-incidents.csv')\n",
    "spreading_incidents['Label'] = spreading_incidents['Pheromone'].apply(lambda p: r'$p$=' + str(p))\n",
    "fig, axes = plt.subplots(2, 1, figsize=(7, 7))\n",
    "PlotResponse(ax=axes[0], data=spreading_incidents, x='TimeStep', y='Avg_Covered', sd='SD_Covered', group='ModelNumber', colour=['#FDBF2D', '#4C67DD'])\n",
    "axes[0].set_xlim(0, 300)\n",
    "axes[0].xaxis.set_ticklabels([])\n",
    "axes[0].set_xlabel('') \n",
    "PlotResponse(ax=axes[1], data=spreading_incidents, x='TimeStep', y='Avg_Reached', sd='SD_Reached', group='ModelNumber', label='Label', colour=['#FDBF2D', '#4C67DD'])\n",
    "axes[1].set_xlim(0, 300)\n",
    "axes[1].annotate('(c)', xy=(0.5, -0.40), xycoords='axes fraction', fontsize=22, ha='center')\n",
    "axes[1].legend(loc=4, prop={'size': 16})\n",
    "plt.subplots_adjust(hspace=0.05)\n",
    "plt.savefig(\"figs/spreading-incidents.jpg\", bbox_inches='tight')\n",
    "plt.show()"
   ]
  },
  {
   "cell_type": "markdown",
   "metadata": {},
   "source": [
    "# Pareto"
   ]
  },
  {
   "cell_type": "code",
   "execution_count": null,
   "metadata": {},
   "outputs": [],
   "source": [
    "!python ensemble.py -m 3 -r 1000 --number_of_responders 30 -s 74258237 -o \"data/convergence-pareto.csv\""
   ]
  },
  {
   "cell_type": "code",
   "execution_count": null,
   "metadata": {},
   "outputs": [],
   "source": [
    "!python ensemble.py -m 3 -r 1000 --number_of_responders 30 --staggered_dispatch --staggered_dispatch_responders 10 --staggered_dispatch_delta 30 -s 89763425 -o \"data/awareness-pareto.csv\""
   ]
  },
  {
   "cell_type": "code",
   "execution_count": null,
   "metadata": {},
   "outputs": [],
   "source": [
    "convergence_pareto = pd.read_csv('data/convergence-pareto.csv')\n",
    "awareness_pareto = pd.read_csv('data/awareness-pareto.csv')\n",
    "\n",
    "pareto_convergence = convergence_pareto[convergence_pareto['ParetoFront'] == 'Pareto']\n",
    "dominated_convergence = convergence_pareto[convergence_pareto['ParetoFront'] == 'Dominated']\n",
    "pareto_time_convergence = pareto_convergence['Avg_Time'].values\n",
    "pareto_info_convergence = pareto_convergence['Avg_Covered'].values\n",
    "dominated_time_convergence = dominated_convergence['Avg_Time'].values\n",
    "dominated_info_convergence = dominated_convergence['Avg_Covered'].values\n",
    "\n",
    "pareto_awareness = awareness_pareto[awareness_pareto['ParetoFront'] == 'Pareto']\n",
    "dominated_awareness = awareness_pareto[awareness_pareto['ParetoFront'] == 'Dominated']\n",
    "pareto_time_awareness = pareto_awareness['Avg_Time'].values\n",
    "pareto_info_awareness = pareto_awareness['Avg_Covered'].values\n",
    "dominated_time_awareness = dominated_awareness['Avg_Time'].values\n",
    "dominated_info_awareness = dominated_awareness['Avg_Covered'].values\n",
    "\n",
    "fig1, ax1 = plt.subplots(figsize=(7, 4))\n",
    "ax1.plot(pareto_time_convergence, pareto_info_convergence, c='#FDBF2D', zorder=2)\n",
    "ax1.scatter(pareto_time_convergence, pareto_info_convergence, s=150, c='#FDBF2D', marker='o', zorder=3)\n",
    "ax1.scatter(pareto_time_convergence, pareto_info_convergence, c='#4C67DD', marker='o', zorder=3)\n",
    "ax1.scatter(dominated_time_convergence, dominated_info_convergence, c='#4C67DD', marker='o', zorder=1, alpha=0.5)\n",
    "ax1.set_xlabel(r'$R$')\n",
    "ax1.set_ylabel(r'$C$')\n",
    "ax1.annotate('(a)', xy=(0.5, -0.35), xycoords='axes fraction', fontsize=22, ha='center')\n",
    "plt.savefig(\"figs/pareto-convergence.jpg\", bbox_inches='tight')\n",
    "plt.show()\n",
    "\n",
    "fig2, ax2 = plt.subplots(figsize=(7, 4))\n",
    "ax2.plot(pareto_time_awareness, pareto_info_awareness, c='#FDBF2D', zorder=2)\n",
    "ax2.scatter(pareto_time_awareness, pareto_info_awareness, s=150, c='#FDBF2D', marker='o', zorder=3)\n",
    "ax2.scatter(pareto_time_awareness, pareto_info_awareness, c='#4C67DD', marker='o', zorder=3)\n",
    "ax2.scatter(dominated_time_awareness, dominated_info_awareness, c='#4C67DD', marker='o', zorder=1, alpha=0.5)\n",
    "ax2.set_xlabel(r'$R$')\n",
    "ax2.set_ylabel(r'$C$')\n",
    "ax2.annotate('(b)', xy=(0.5, -0.35), xycoords='axes fraction', fontsize=22, ha='center')\n",
    "plt.savefig(\"figs/pareto-awareness.jpg\", bbox_inches='tight')\n",
    "plt.show()"
   ]
  }
 ],
 "metadata": {
  "kernelspec": {
   "display_name": "Python 3",
   "language": "python",
   "name": "python3"
  },
  "language_info": {
   "codemirror_mode": {
    "name": "ipython",
    "version": 3
   },
   "file_extension": ".py",
   "mimetype": "text/x-python",
   "name": "python",
   "nbconvert_exporter": "python",
   "pygments_lexer": "ipython3",
   "version": "3.10.7"
  }
 },
 "nbformat": 4,
 "nbformat_minor": 2
}
